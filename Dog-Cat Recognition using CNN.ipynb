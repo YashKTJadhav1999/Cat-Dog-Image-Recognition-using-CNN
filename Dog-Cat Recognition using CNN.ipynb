{
 "cells": [
  {
   "cell_type": "markdown",
   "id": "5940240f",
   "metadata": {},
   "source": [
    "# DOG - CAT Image Recongition Using Convolutional Neural Netwrok"
   ]
  },
  {
   "cell_type": "code",
   "execution_count": 1,
   "id": "7ecb72df",
   "metadata": {
    "collapsed": true
   },
   "outputs": [
    {
     "name": "stdout",
     "output_type": "stream",
     "text": [
      "Requirement already satisfied: tensorflow in c:\\users\\yashk\\anaconda3\\lib\\site-packages (2.15.0)\n",
      "Requirement already satisfied: tensorflow-intel==2.15.0 in c:\\users\\yashk\\anaconda3\\lib\\site-packages (from tensorflow) (2.15.0)\n",
      "Requirement already satisfied: absl-py>=1.0.0 in c:\\users\\yashk\\anaconda3\\lib\\site-packages (from tensorflow-intel==2.15.0->tensorflow) (2.1.0)\n",
      "Requirement already satisfied: astunparse>=1.6.0 in c:\\users\\yashk\\anaconda3\\lib\\site-packages (from tensorflow-intel==2.15.0->tensorflow) (1.6.3)\n",
      "Requirement already satisfied: flatbuffers>=23.5.26 in c:\\users\\yashk\\anaconda3\\lib\\site-packages (from tensorflow-intel==2.15.0->tensorflow) (23.5.26)\n",
      "Requirement already satisfied: gast!=0.5.0,!=0.5.1,!=0.5.2,>=0.2.1 in c:\\users\\yashk\\anaconda3\\lib\\site-packages (from tensorflow-intel==2.15.0->tensorflow) (0.5.4)\n",
      "Requirement already satisfied: google-pasta>=0.1.1 in c:\\users\\yashk\\anaconda3\\lib\\site-packages (from tensorflow-intel==2.15.0->tensorflow) (0.2.0)\n",
      "Requirement already satisfied: h5py>=2.9.0 in c:\\users\\yashk\\anaconda3\\lib\\site-packages (from tensorflow-intel==2.15.0->tensorflow) (3.7.0)\n",
      "Requirement already satisfied: libclang>=13.0.0 in c:\\users\\yashk\\anaconda3\\lib\\site-packages (from tensorflow-intel==2.15.0->tensorflow) (16.0.6)\n",
      "Requirement already satisfied: ml-dtypes~=0.2.0 in c:\\users\\yashk\\anaconda3\\lib\\site-packages (from tensorflow-intel==2.15.0->tensorflow) (0.2.0)\n",
      "Requirement already satisfied: numpy<2.0.0,>=1.23.5 in c:\\users\\yashk\\anaconda3\\lib\\site-packages (from tensorflow-intel==2.15.0->tensorflow) (1.24.3)\n",
      "Requirement already satisfied: opt-einsum>=2.3.2 in c:\\users\\yashk\\anaconda3\\lib\\site-packages (from tensorflow-intel==2.15.0->tensorflow) (3.3.0)\n",
      "Requirement already satisfied: packaging in c:\\users\\yashk\\anaconda3\\lib\\site-packages (from tensorflow-intel==2.15.0->tensorflow) (23.0)\n",
      "Requirement already satisfied: protobuf!=4.21.0,!=4.21.1,!=4.21.2,!=4.21.3,!=4.21.4,!=4.21.5,<5.0.0dev,>=3.20.3 in c:\\users\\yashk\\anaconda3\\lib\\site-packages (from tensorflow-intel==2.15.0->tensorflow) (4.23.4)\n",
      "Requirement already satisfied: setuptools in c:\\users\\yashk\\anaconda3\\lib\\site-packages (from tensorflow-intel==2.15.0->tensorflow) (67.8.0)\n",
      "Requirement already satisfied: six>=1.12.0 in c:\\users\\yashk\\anaconda3\\lib\\site-packages (from tensorflow-intel==2.15.0->tensorflow) (1.16.0)\n",
      "Requirement already satisfied: termcolor>=1.1.0 in c:\\users\\yashk\\anaconda3\\lib\\site-packages (from tensorflow-intel==2.15.0->tensorflow) (2.4.0)\n",
      "Requirement already satisfied: typing-extensions>=3.6.6 in c:\\users\\yashk\\anaconda3\\lib\\site-packages (from tensorflow-intel==2.15.0->tensorflow) (4.6.3)\n",
      "Requirement already satisfied: wrapt<1.15,>=1.11.0 in c:\\users\\yashk\\anaconda3\\lib\\site-packages (from tensorflow-intel==2.15.0->tensorflow) (1.14.1)\n",
      "Requirement already satisfied: tensorflow-io-gcs-filesystem>=0.23.1 in c:\\users\\yashk\\anaconda3\\lib\\site-packages (from tensorflow-intel==2.15.0->tensorflow) (0.31.0)\n",
      "Requirement already satisfied: grpcio<2.0,>=1.24.3 in c:\\users\\yashk\\anaconda3\\lib\\site-packages (from tensorflow-intel==2.15.0->tensorflow) (1.60.0)\n",
      "Requirement already satisfied: tensorboard<2.16,>=2.15 in c:\\users\\yashk\\anaconda3\\lib\\site-packages (from tensorflow-intel==2.15.0->tensorflow) (2.15.1)\n",
      "Requirement already satisfied: tensorflow-estimator<2.16,>=2.15.0 in c:\\users\\yashk\\anaconda3\\lib\\site-packages (from tensorflow-intel==2.15.0->tensorflow) (2.15.0)\n",
      "Requirement already satisfied: keras<2.16,>=2.15.0 in c:\\users\\yashk\\anaconda3\\lib\\site-packages (from tensorflow-intel==2.15.0->tensorflow) (2.15.0)\n",
      "Requirement already satisfied: wheel<1.0,>=0.23.0 in c:\\users\\yashk\\anaconda3\\lib\\site-packages (from astunparse>=1.6.0->tensorflow-intel==2.15.0->tensorflow) (0.38.4)\n",
      "Requirement already satisfied: google-auth<3,>=1.6.3 in c:\\users\\yashk\\anaconda3\\lib\\site-packages (from tensorboard<2.16,>=2.15->tensorflow-intel==2.15.0->tensorflow) (2.26.2)\n",
      "Requirement already satisfied: google-auth-oauthlib<2,>=0.5 in c:\\users\\yashk\\anaconda3\\lib\\site-packages (from tensorboard<2.16,>=2.15->tensorflow-intel==2.15.0->tensorflow) (1.2.0)\n",
      "Requirement already satisfied: markdown>=2.6.8 in c:\\users\\yashk\\anaconda3\\lib\\site-packages (from tensorboard<2.16,>=2.15->tensorflow-intel==2.15.0->tensorflow) (3.4.1)\n",
      "Requirement already satisfied: requests<3,>=2.21.0 in c:\\users\\yashk\\anaconda3\\lib\\site-packages (from tensorboard<2.16,>=2.15->tensorflow-intel==2.15.0->tensorflow) (2.29.0)\n",
      "Requirement already satisfied: tensorboard-data-server<0.8.0,>=0.7.0 in c:\\users\\yashk\\anaconda3\\lib\\site-packages (from tensorboard<2.16,>=2.15->tensorflow-intel==2.15.0->tensorflow) (0.7.2)\n",
      "Requirement already satisfied: werkzeug>=1.0.1 in c:\\users\\yashk\\anaconda3\\lib\\site-packages (from tensorboard<2.16,>=2.15->tensorflow-intel==2.15.0->tensorflow) (2.2.3)\n",
      "Requirement already satisfied: cachetools<6.0,>=2.0.0 in c:\\users\\yashk\\anaconda3\\lib\\site-packages (from google-auth<3,>=1.6.3->tensorboard<2.16,>=2.15->tensorflow-intel==2.15.0->tensorflow) (5.3.2)\n",
      "Requirement already satisfied: pyasn1-modules>=0.2.1 in c:\\users\\yashk\\anaconda3\\lib\\site-packages (from google-auth<3,>=1.6.3->tensorboard<2.16,>=2.15->tensorflow-intel==2.15.0->tensorflow) (0.2.8)\n",
      "Requirement already satisfied: rsa<5,>=3.1.4 in c:\\users\\yashk\\anaconda3\\lib\\site-packages (from google-auth<3,>=1.6.3->tensorboard<2.16,>=2.15->tensorflow-intel==2.15.0->tensorflow) (4.9)\n",
      "Requirement already satisfied: requests-oauthlib>=0.7.0 in c:\\users\\yashk\\anaconda3\\lib\\site-packages (from google-auth-oauthlib<2,>=0.5->tensorboard<2.16,>=2.15->tensorflow-intel==2.15.0->tensorflow) (1.3.1)\n",
      "Requirement already satisfied: charset-normalizer<4,>=2 in c:\\users\\yashk\\anaconda3\\lib\\site-packages (from requests<3,>=2.21.0->tensorboard<2.16,>=2.15->tensorflow-intel==2.15.0->tensorflow) (2.0.4)\n",
      "Requirement already satisfied: idna<4,>=2.5 in c:\\users\\yashk\\anaconda3\\lib\\site-packages (from requests<3,>=2.21.0->tensorboard<2.16,>=2.15->tensorflow-intel==2.15.0->tensorflow) (3.4)\n",
      "Requirement already satisfied: urllib3<1.27,>=1.21.1 in c:\\users\\yashk\\anaconda3\\lib\\site-packages (from requests<3,>=2.21.0->tensorboard<2.16,>=2.15->tensorflow-intel==2.15.0->tensorflow) (1.26.16)\n",
      "Requirement already satisfied: certifi>=2017.4.17 in c:\\users\\yashk\\anaconda3\\lib\\site-packages (from requests<3,>=2.21.0->tensorboard<2.16,>=2.15->tensorflow-intel==2.15.0->tensorflow) (2023.5.7)\n",
      "Requirement already satisfied: MarkupSafe>=2.1.1 in c:\\users\\yashk\\anaconda3\\lib\\site-packages (from werkzeug>=1.0.1->tensorboard<2.16,>=2.15->tensorflow-intel==2.15.0->tensorflow) (2.1.1)\n",
      "Requirement already satisfied: pyasn1<0.5.0,>=0.4.6 in c:\\users\\yashk\\anaconda3\\lib\\site-packages (from pyasn1-modules>=0.2.1->google-auth<3,>=1.6.3->tensorboard<2.16,>=2.15->tensorflow-intel==2.15.0->tensorflow) (0.4.8)\n",
      "Requirement already satisfied: oauthlib>=3.0.0 in c:\\users\\yashk\\anaconda3\\lib\\site-packages (from requests-oauthlib>=0.7.0->google-auth-oauthlib<2,>=0.5->tensorboard<2.16,>=2.15->tensorflow-intel==2.15.0->tensorflow) (3.2.2)\n",
      "Note: you may need to restart the kernel to use updated packages.\n"
     ]
    }
   ],
   "source": [
    "pip install tensorflow"
   ]
  },
  {
   "cell_type": "code",
   "execution_count": 2,
   "id": "500d6866",
   "metadata": {},
   "outputs": [
    {
     "name": "stdout",
     "output_type": "stream",
     "text": [
      "Requirement already satisfied: keras in c:\\users\\yashk\\anaconda3\\lib\\site-packages (2.15.0)\n",
      "Note: you may need to restart the kernel to use updated packages.\n"
     ]
    }
   ],
   "source": [
    "pip install keras"
   ]
  },
  {
   "cell_type": "code",
   "execution_count": 1,
   "id": "7b8f492d",
   "metadata": {},
   "outputs": [
    {
     "name": "stdout",
     "output_type": "stream",
     "text": [
      "WARNING:tensorflow:From C:\\Users\\yashk\\anaconda3\\Lib\\site-packages\\keras\\src\\losses.py:2976: The name tf.losses.sparse_softmax_cross_entropy is deprecated. Please use tf.compat.v1.losses.sparse_softmax_cross_entropy instead.\n",
      "\n"
     ]
    }
   ],
   "source": [
    "import tensorflow as tf\n",
    "from keras.preprocessing.image import ImageDataGenerator"
   ]
  },
  {
   "cell_type": "markdown",
   "id": "6be88a48",
   "metadata": {},
   "source": [
    "## Part 1:Training and Test Dataset"
   ]
  },
  {
   "cell_type": "code",
   "execution_count": 2,
   "id": "a659a44e",
   "metadata": {
    "scrolled": true
   },
   "outputs": [
    {
     "name": "stdout",
     "output_type": "stream",
     "text": [
      "Found 8000 images belonging to 2 classes.\n"
     ]
    }
   ],
   "source": [
    "train_datagen = ImageDataGenerator(rescale = 1./255,\n",
    "                                  shear_range = 0.2,\n",
    "                                  zoom_range = 0.2,\n",
    "                                  horizontal_flip = True)\n",
    "\n",
    "training_set = train_datagen.flow_from_directory(r\"C:\\Users\\yashk\\OneDrive\\Documents\\CAT_DOG Prediction\\dogs_cats\\training_set\",\n",
    "                                                   target_size = (64,64),\n",
    "                                                   batch_size = 32,\n",
    "                                                   class_mode = 'binary')"
   ]
  },
  {
   "cell_type": "code",
   "execution_count": 3,
   "id": "d13eba4b",
   "metadata": {},
   "outputs": [
    {
     "name": "stdout",
     "output_type": "stream",
     "text": [
      "Found 2000 images belonging to 2 classes.\n"
     ]
    }
   ],
   "source": [
    "test_datagen = ImageDataGenerator(rescale=1./255)\n",
    "\n",
    "test_dataset = test_datagen.flow_from_directory(r\"C:\\Users\\yashk\\OneDrive\\Documents\\CAT_DOG Prediction\\dogs_cats\\test_set\",\n",
    "                                                   target_size = (64,64),\n",
    "                                                   batch_size = 32,\n",
    "                                                   class_mode = 'binary')"
   ]
  },
  {
   "cell_type": "markdown",
   "id": "395597ae",
   "metadata": {},
   "source": [
    "## PART 2: BUILDING THE CNN"
   ]
  },
  {
   "cell_type": "markdown",
   "id": "0433e1a0",
   "metadata": {},
   "source": [
    "### Initialising the CNN"
   ]
  },
  {
   "cell_type": "code",
   "execution_count": 4,
   "id": "c459a90a",
   "metadata": {},
   "outputs": [
    {
     "name": "stdout",
     "output_type": "stream",
     "text": [
      "WARNING:tensorflow:From C:\\Users\\yashk\\anaconda3\\Lib\\site-packages\\keras\\src\\backend.py:873: The name tf.get_default_graph is deprecated. Please use tf.compat.v1.get_default_graph instead.\n",
      "\n"
     ]
    }
   ],
   "source": [
    "cnn = tf.keras.models.Sequential()"
   ]
  },
  {
   "cell_type": "markdown",
   "id": "51287bba",
   "metadata": {},
   "source": [
    "### Step 1: Convolution"
   ]
  },
  {
   "cell_type": "code",
   "execution_count": 5,
   "id": "bb92bfff",
   "metadata": {},
   "outputs": [],
   "source": [
    "cnn.add(tf.keras.layers.Conv2D(filters = 32,\n",
    "                               kernel_size = 3,\n",
    "                               activation = \"relu\",\n",
    "                               input_shape = [64,64,3]))"
   ]
  },
  {
   "cell_type": "markdown",
   "id": "60113db2",
   "metadata": {},
   "source": [
    "### Step 2: Pooling"
   ]
  },
  {
   "cell_type": "code",
   "execution_count": 6,
   "id": "48136148",
   "metadata": {},
   "outputs": [
    {
     "name": "stdout",
     "output_type": "stream",
     "text": [
      "WARNING:tensorflow:From C:\\Users\\yashk\\anaconda3\\Lib\\site-packages\\keras\\src\\layers\\pooling\\max_pooling2d.py:161: The name tf.nn.max_pool is deprecated. Please use tf.nn.max_pool2d instead.\n",
      "\n"
     ]
    }
   ],
   "source": [
    "cnn.add(tf.keras.layers.MaxPool2D(pool_size=2,strides=2))"
   ]
  },
  {
   "cell_type": "markdown",
   "id": "86f71647",
   "metadata": {},
   "source": [
    "### Adding a Second Convolutional Layers"
   ]
  },
  {
   "cell_type": "code",
   "execution_count": 7,
   "id": "d04fd4b1",
   "metadata": {},
   "outputs": [],
   "source": [
    "cnn.add(tf.keras.layers.Conv2D(filters = 32,\n",
    "                               kernel_size = 3,\n",
    "                               activation = \"relu\"))\n",
    "\n",
    "cnn.add(tf.keras.layers.MaxPool2D(pool_size=2,strides=2))"
   ]
  },
  {
   "cell_type": "markdown",
   "id": "e40bd5ab",
   "metadata": {},
   "source": [
    "### Step 3: Flattening"
   ]
  },
  {
   "cell_type": "code",
   "execution_count": 8,
   "id": "8d892b2c",
   "metadata": {},
   "outputs": [],
   "source": [
    "cnn.add(tf.keras.layers.Flatten())"
   ]
  },
  {
   "cell_type": "markdown",
   "id": "abed12a8",
   "metadata": {},
   "source": [
    "### Step 4: Full Connection"
   ]
  },
  {
   "cell_type": "code",
   "execution_count": 9,
   "id": "fb947f63",
   "metadata": {},
   "outputs": [],
   "source": [
    "cnn.add(tf.keras.layers.Dense(units=128,activation='relu'))"
   ]
  },
  {
   "cell_type": "markdown",
   "id": "c60e1dda",
   "metadata": {},
   "source": [
    "### Step 5: Output Layer"
   ]
  },
  {
   "cell_type": "code",
   "execution_count": 10,
   "id": "53610bc6",
   "metadata": {},
   "outputs": [],
   "source": [
    "cnn.add(tf.keras.layers.Dense(units=1,activation='sigmoid'))"
   ]
  },
  {
   "cell_type": "markdown",
   "id": "e94c569b",
   "metadata": {},
   "source": [
    "## PART 3: TRAINING THE CNN "
   ]
  },
  {
   "cell_type": "code",
   "execution_count": 11,
   "id": "74d795d8",
   "metadata": {},
   "outputs": [
    {
     "name": "stdout",
     "output_type": "stream",
     "text": [
      "WARNING:tensorflow:From C:\\Users\\yashk\\anaconda3\\Lib\\site-packages\\keras\\src\\optimizers\\__init__.py:309: The name tf.train.Optimizer is deprecated. Please use tf.compat.v1.train.Optimizer instead.\n",
      "\n"
     ]
    }
   ],
   "source": [
    "#Compiling the CNN \n",
    "cnn.compile(optimizer='adam',\n",
    "           loss='binary_crossentropy',\n",
    "           metrics='accuracy')"
   ]
  },
  {
   "cell_type": "code",
   "execution_count": 12,
   "id": "003427ac",
   "metadata": {
    "scrolled": true
   },
   "outputs": [
    {
     "name": "stdout",
     "output_type": "stream",
     "text": [
      "Epoch 1/25\n",
      "WARNING:tensorflow:From C:\\Users\\yashk\\anaconda3\\Lib\\site-packages\\keras\\src\\utils\\tf_utils.py:492: The name tf.ragged.RaggedTensorValue is deprecated. Please use tf.compat.v1.ragged.RaggedTensorValue instead.\n",
      "\n",
      "WARNING:tensorflow:From C:\\Users\\yashk\\anaconda3\\Lib\\site-packages\\keras\\src\\engine\\base_layer_utils.py:384: The name tf.executing_eagerly_outside_functions is deprecated. Please use tf.compat.v1.executing_eagerly_outside_functions instead.\n",
      "\n",
      "250/250 [==============================] - 78s 307ms/step - loss: 0.6768 - accuracy: 0.5721 - val_loss: 0.6110 - val_accuracy: 0.6710\n",
      "Epoch 2/25\n",
      "250/250 [==============================] - 21s 83ms/step - loss: 0.6052 - accuracy: 0.6678 - val_loss: 0.6073 - val_accuracy: 0.6780\n",
      "Epoch 3/25\n",
      "250/250 [==============================] - 21s 85ms/step - loss: 0.5774 - accuracy: 0.6977 - val_loss: 0.5694 - val_accuracy: 0.7150\n",
      "Epoch 4/25\n",
      "250/250 [==============================] - 21s 84ms/step - loss: 0.5415 - accuracy: 0.7283 - val_loss: 0.5342 - val_accuracy: 0.7395\n",
      "Epoch 5/25\n",
      "250/250 [==============================] - 21s 84ms/step - loss: 0.5259 - accuracy: 0.7401 - val_loss: 0.5291 - val_accuracy: 0.7345\n",
      "Epoch 6/25\n",
      "250/250 [==============================] - 21s 84ms/step - loss: 0.5133 - accuracy: 0.7492 - val_loss: 0.5022 - val_accuracy: 0.7610\n",
      "Epoch 7/25\n",
      "250/250 [==============================] - 21s 83ms/step - loss: 0.4841 - accuracy: 0.7645 - val_loss: 0.4715 - val_accuracy: 0.7750\n",
      "Epoch 8/25\n",
      "250/250 [==============================] - 21s 84ms/step - loss: 0.4704 - accuracy: 0.7732 - val_loss: 0.5041 - val_accuracy: 0.7670\n",
      "Epoch 9/25\n",
      "250/250 [==============================] - 21s 83ms/step - loss: 0.4603 - accuracy: 0.7781 - val_loss: 0.4821 - val_accuracy: 0.7875\n",
      "Epoch 10/25\n",
      "250/250 [==============================] - 21s 83ms/step - loss: 0.4460 - accuracy: 0.7878 - val_loss: 0.4773 - val_accuracy: 0.7890\n",
      "Epoch 11/25\n",
      "250/250 [==============================] - 21s 83ms/step - loss: 0.4274 - accuracy: 0.8004 - val_loss: 0.4611 - val_accuracy: 0.7985\n",
      "Epoch 12/25\n",
      "250/250 [==============================] - 21s 83ms/step - loss: 0.4219 - accuracy: 0.8026 - val_loss: 0.4617 - val_accuracy: 0.7890\n",
      "Epoch 13/25\n",
      "250/250 [==============================] - 21s 83ms/step - loss: 0.4099 - accuracy: 0.8100 - val_loss: 0.4703 - val_accuracy: 0.7920\n",
      "Epoch 14/25\n",
      "250/250 [==============================] - 21s 83ms/step - loss: 0.3924 - accuracy: 0.8199 - val_loss: 0.4513 - val_accuracy: 0.8020\n",
      "Epoch 15/25\n",
      "250/250 [==============================] - 21s 83ms/step - loss: 0.3825 - accuracy: 0.8271 - val_loss: 0.4607 - val_accuracy: 0.8015\n",
      "Epoch 16/25\n",
      "250/250 [==============================] - 21s 84ms/step - loss: 0.3819 - accuracy: 0.8239 - val_loss: 0.4731 - val_accuracy: 0.7930\n",
      "Epoch 17/25\n",
      "250/250 [==============================] - 21s 83ms/step - loss: 0.3692 - accuracy: 0.8319 - val_loss: 0.4637 - val_accuracy: 0.7950\n",
      "Epoch 18/25\n",
      "250/250 [==============================] - 21s 83ms/step - loss: 0.3549 - accuracy: 0.8453 - val_loss: 0.4990 - val_accuracy: 0.7950\n",
      "Epoch 19/25\n",
      "250/250 [==============================] - 21s 83ms/step - loss: 0.3584 - accuracy: 0.8339 - val_loss: 0.4801 - val_accuracy: 0.7945\n",
      "Epoch 20/25\n",
      "250/250 [==============================] - 21s 83ms/step - loss: 0.3459 - accuracy: 0.8441 - val_loss: 0.4503 - val_accuracy: 0.8090\n",
      "Epoch 21/25\n",
      "250/250 [==============================] - 21s 84ms/step - loss: 0.3330 - accuracy: 0.8514 - val_loss: 0.4789 - val_accuracy: 0.7965\n",
      "Epoch 22/25\n",
      "250/250 [==============================] - 21s 86ms/step - loss: 0.3277 - accuracy: 0.8555 - val_loss: 0.4490 - val_accuracy: 0.8080\n",
      "Epoch 23/25\n",
      "250/250 [==============================] - 21s 83ms/step - loss: 0.3115 - accuracy: 0.8640 - val_loss: 0.4654 - val_accuracy: 0.7990\n",
      "Epoch 24/25\n",
      "250/250 [==============================] - 21s 83ms/step - loss: 0.3126 - accuracy: 0.8668 - val_loss: 0.5130 - val_accuracy: 0.7995\n",
      "Epoch 25/25\n",
      "250/250 [==============================] - 21s 84ms/step - loss: 0.3122 - accuracy: 0.8610 - val_loss: 0.5494 - val_accuracy: 0.7680\n"
     ]
    },
    {
     "data": {
      "text/plain": [
       "<keras.src.callbacks.History at 0x1cb32f38910>"
      ]
     },
     "execution_count": 12,
     "metadata": {},
     "output_type": "execute_result"
    }
   ],
   "source": [
    "#Training the CNN on the training set and evaluating it on the Test set\n",
    "cnn.fit(x=training_set, validation_data=test_dataset, epochs=25)"
   ]
  },
  {
   "cell_type": "markdown",
   "id": "817a9d47",
   "metadata": {},
   "source": [
    "## PART 4: MAKING A SINGLE PREDICITION"
   ]
  },
  {
   "cell_type": "code",
   "execution_count": 23,
   "id": "aa3bbe71",
   "metadata": {},
   "outputs": [
    {
     "name": "stdout",
     "output_type": "stream",
     "text": [
      "1/1 [==============================] - 0s 18ms/step\n"
     ]
    }
   ],
   "source": [
    "import numpy as np\n",
    "from keras.preprocessing import image\n",
    "test_image = image.load_img(r\"C:\\Users\\yashk\\OneDrive\\Documents\\CAT_DOG Prediction\\dogs_cats\\single_prediction\\cat_dog.jpg\", \n",
    "                            target_size=(64,64))\n",
    "test_image = image.img_to_array(test_image)\n",
    "test_image = np.expand_dims(test_image,axis=0)\n",
    "\n",
    "result = cnn.predict(test_image)\n",
    "\n",
    "training_set.class_indices\n",
    "if result[0][0] == 1:\n",
    "    prediction = \"The image is of a DOG\"\n",
    "else:\n",
    "    prediction = \"The image is of a CAT\"\n"
   ]
  },
  {
   "cell_type": "code",
   "execution_count": 24,
   "id": "ee14a8f0",
   "metadata": {},
   "outputs": [
    {
     "name": "stdout",
     "output_type": "stream",
     "text": [
      "The image is of a CAT\n"
     ]
    }
   ],
   "source": [
    "print(prediction)"
   ]
  },
  {
   "cell_type": "code",
   "execution_count": 16,
   "id": "6bff2237",
   "metadata": {},
   "outputs": [
    {
     "name": "stdout",
     "output_type": "stream",
     "text": [
      "[[1.818016e-19]]\n"
     ]
    }
   ],
   "source": [
    "print(result)"
   ]
  },
  {
   "cell_type": "code",
   "execution_count": null,
   "id": "10d16128",
   "metadata": {},
   "outputs": [],
   "source": []
  }
 ],
 "metadata": {
  "kernelspec": {
   "display_name": "Python 3 (ipykernel)",
   "language": "python",
   "name": "python3"
  },
  "language_info": {
   "codemirror_mode": {
    "name": "ipython",
    "version": 3
   },
   "file_extension": ".py",
   "mimetype": "text/x-python",
   "name": "python",
   "nbconvert_exporter": "python",
   "pygments_lexer": "ipython3",
   "version": "3.11.3"
  }
 },
 "nbformat": 4,
 "nbformat_minor": 5
}
